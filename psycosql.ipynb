{
 "cells": [
  {
   "cell_type": "code",
   "execution_count": 6,
   "metadata": {},
   "outputs": [
    {
     "data": {
      "text/plain": [
       "<connection object at 0x000001E4879D87B0; dsn: 'user=postgres password=xxx dbname=sql_demo host=localhost port=5432', closed: 0>"
      ]
     },
     "execution_count": 6,
     "metadata": {},
     "output_type": "execute_result"
    }
   ],
   "source": [
    "import psycopg2\n",
    "#Establishing a connection\n",
    "con = psycopg2.connect(\n",
    "    host=\"localhost\",port=\"5432\",database=\"sql_demo\",\n",
    "    user=\"postgres\",password=\"Ernest15\")\n",
    "con"
   ]
  },
  {
   "cell_type": "code",
   "execution_count": 7,
   "metadata": {},
   "outputs": [
    {
     "data": {
      "text/plain": [
       "<cursor object at 0x000001E487A28660; closed: 0>"
      ]
     },
     "execution_count": 7,
     "metadata": {},
     "output_type": "execute_result"
    }
   ],
   "source": [
    "#create cursor to execute commands and fetch results\n",
    "cursor_obj=con.cursor()\n",
    "cursor_obj"
   ]
  },
  {
   "cell_type": "code",
   "execution_count": 4,
   "metadata": {},
   "outputs": [
    {
     "data": {
      "text/plain": [
       "[(104, 'The Dark Knight', 'Action', 9.0, 'Would reccomend'),\n",
       " (105, 'The matrix', 'Sci-fi', 8.7, 'Still reccomend but I have reservations'),\n",
       " (106, 'Se7en', 'Crime', 8.6, 'Still reccomend but I have reservations'),\n",
       " (107,\n",
       "  'Instellar',\n",
       "  'Adventure',\n",
       "  8.6,\n",
       "  'Still reccomend but I have reservations'),\n",
       " (104, 'The Dark Knight', 'Action', 9.0, 'Would reccomend'),\n",
       " (105, 'The matrix', 'Sci-fi', 8.7, 'Still reccomend but I have reservations'),\n",
       " (106, 'Se7en', 'Crime', 8.6, 'Still reccomend but I have reservations'),\n",
       " (107,\n",
       "  'Instellar',\n",
       "  'Adventure',\n",
       "  8.6,\n",
       "  'Still reccomend but I have reservations'),\n",
       " (104, 'The Dark Knight', 'Action', 9.0, 'Would reccomend'),\n",
       " (104, 'The Dark Knight', 'Action', 9.0, 'Would reccomend'),\n",
       " (105, 'The matrix', 'Sci-fi', 8.7, 'Still reccomend but I have reservations'),\n",
       " (106, 'Se7en', 'Crime', 8.6, 'Still reccomend but I have reservations'),\n",
       " (107,\n",
       "  'Instellar',\n",
       "  'Adventure',\n",
       "  8.6,\n",
       "  'Still reccomend but I have reservations'),\n",
       " (105, 'The matrix', 'Sci-fi', 8.7, 'Still reccomend but I have reservations'),\n",
       " (106, 'Se7en', 'Crime', 8.6, 'Still reccomend but I have reservations'),\n",
       " (107,\n",
       "  'Instellar',\n",
       "  'Adventure',\n",
       "  8.6,\n",
       "  'Still reccomend but I have reservations'),\n",
       " (104, 'The Dark Knight', 'Action', 9.0, 'Would reccomend'),\n",
       " (105, 'The matrix', 'Sci-fi', 8.7, 'Still reccomend but I have reservations'),\n",
       " (106, 'Se7en', 'Crime', 8.6, 'Still reccomend but I have reservations'),\n",
       " (107,\n",
       "  'Instellar',\n",
       "  'Adventure',\n",
       "  8.6,\n",
       "  'Still reccomend but I have reservations'),\n",
       " (107,\n",
       "  'Instellar',\n",
       "  'Adventure',\n",
       "  8.6,\n",
       "  'Still reccomend but I have reservations'),\n",
       " (104, 'The Dark Knight', 'Action', 9.0, 'Would reccomend'),\n",
       " (105, 'The matrix', 'Sci-fi', 8.7, 'Still reccomend but I have reservations'),\n",
       " (106, 'Se7en', 'Crime', 8.6, 'Still reccomend but I have reservations'),\n",
       " (107,\n",
       "  'Instellar',\n",
       "  'Adventure',\n",
       "  8.6,\n",
       "  'Still reccomend but I have reservations'),\n",
       " (106, 'Se7en', 'Crime', 8.6, 'Still reccomend but I have reservations'),\n",
       " (107,\n",
       "  'Instellar',\n",
       "  'Adventure',\n",
       "  8.6,\n",
       "  'Still reccomend but I have reservations'),\n",
       " (104, 'The Dark Knight', 'Action', 9.0, 'Would reccomend'),\n",
       " (105, 'The matrix', 'Sci-fi', 8.7, 'Still reccomend but I have reservations'),\n",
       " (106, 'Se7en', 'Crime', 8.6, 'Still reccomend but I have reservations'),\n",
       " (107,\n",
       "  'Instellar',\n",
       "  'Adventure',\n",
       "  8.6,\n",
       "  'Still reccomend but I have reservations'),\n",
       " (104, 'The Dark Knight', 'Action', 9.0, 'Would reccomend'),\n",
       " (105, 'The matrix', 'Sci-fi', 8.7, 'Still reccomend but I have reservations'),\n",
       " (106, 'Se7en', 'Crime', 8.6, 'Still reccomend but I have reservations'),\n",
       " (107,\n",
       "  'Instellar',\n",
       "  'Adventure',\n",
       "  8.6,\n",
       "  'Still reccomend but I have reservations'),\n",
       " (104, 'The Dark Knight', 'Action', 9.0, 'Would reccomend'),\n",
       " (105, 'The matrix', 'Sci-fi', 8.7, 'Still reccomend but I have reservations'),\n",
       " (106, 'Se7en', 'Crime', 8.6, 'Still reccomend but I have reservations'),\n",
       " (107,\n",
       "  'Instellar',\n",
       "  'Adventure',\n",
       "  8.6,\n",
       "  'Still reccomend but I have reservations'),\n",
       " (103, '12 Angry men', 'Drama,Crime', 9.0, 'Would reccomend'),\n",
       " (103, '12 Angry men', 'Drama,Crime', 9.0, 'Would reccomend'),\n",
       " (103, '12 Angry men', 'Drama,Crime', 9.0, 'Would reccomend'),\n",
       " (103, '12 Angry men', 'Drama,Crime', 9.0, 'Would reccomend'),\n",
       " (103, '12 Angry men', 'Drama,Crime', 9.0, 'Would reccomend'),\n",
       " (104, 'The Dark Knight', 'Action', 9.0, 'Would reccomend'),\n",
       " (105, 'The matrix', 'Sci-fi', 8.7, 'Still reccomend but I have reservations'),\n",
       " (106, 'Se7en', 'Crime', 8.6, 'Still reccomend but I have reservations'),\n",
       " (107,\n",
       "  'Instellar',\n",
       "  'Adventure',\n",
       "  8.6,\n",
       "  'Still reccomend but I have reservations'),\n",
       " (103, '12 Angry men', 'Drama,Crime', 9.0, 'Would reccomend'),\n",
       " (103, '12 Angry men', 'Drama,Crime', 9.0, 'Would reccomend'),\n",
       " (103, '12 Angry men', 'Drama,Crime', 9.0, 'Would reccomend'),\n",
       " (103, '12 Angry men', 'Drama,Crime', 9.0, 'Would reccomend'),\n",
       " (104, 'The Dark Knight', 'Action', 9.0, 'Would reccomend'),\n",
       " (105, 'The matrix', 'Sci-fi', 8.7, 'Still reccomend but I have reservations'),\n",
       " (106, 'Se7en', 'Crime', 8.6, 'Still reccomend but I have reservations'),\n",
       " (107,\n",
       "  'Instellar',\n",
       "  'Adventure',\n",
       "  8.6,\n",
       "  'Still reccomend but I have reservations'),\n",
       " (103, '12 Angry men', 'Drama,Crime', 9.0, 'Would reccomend'),\n",
       " (103, '12 Angry men', 'Drama,Crime', 9.0, 'Would reccomend'),\n",
       " (104, 'The Dark Knight', 'Action', 9.0, 'Would reccomend'),\n",
       " (105, 'The matrix', 'Sci-fi', 8.7, 'Still reccomend but I have reservations'),\n",
       " (103, '12 Angry men', 'Drama,Crime', 9.0, 'Would reccomend'),\n",
       " (103, '12 Angry men', 'Drama,Crime', 9.0, 'Would reccomend'),\n",
       " (104, 'The Dark Knight', 'Action', 9.0, 'Would reccomend'),\n",
       " (105, 'The matrix', 'Sci-fi', 8.7, 'Still reccomend but I have reservations'),\n",
       " (106, 'Se7en', 'Crime', 8.6, 'Still reccomend but I have reservations'),\n",
       " (107,\n",
       "  'Instellar',\n",
       "  'Adventure',\n",
       "  8.6,\n",
       "  'Still reccomend but I have reservations'),\n",
       " (103, '12 Angry men', 'Drama,Crime', 9.0, 'Would reccomend'),\n",
       " (103, '12 Angry men', 'Drama,Crime', 9.0, 'Would reccomend'),\n",
       " (104, 'The Dark Knight', 'Action', 9.0, 'Would reccomend'),\n",
       " (105, 'The matrix', 'Sci-fi', 8.7, 'Still reccomend but I have reservations'),\n",
       " (106, 'Se7en', 'Crime', 8.6, 'Still reccomend but I have reservations'),\n",
       " (107,\n",
       "  'Instellar',\n",
       "  'Adventure',\n",
       "  8.6,\n",
       "  'Still reccomend but I have reservations'),\n",
       " (104, 'The Dark Knight', 'Action', 9.0, 'Would reccomend'),\n",
       " (105, 'The matrix', 'Sci-fi', 8.7, 'Still reccomend but I have reservations'),\n",
       " (106, 'Se7en', 'Crime', 8.6, 'Still reccomend but I have reservations')]"
      ]
     },
     "execution_count": 4,
     "metadata": {},
     "output_type": "execute_result"
    }
   ],
   "source": [
    "cursor_obj.execute(\"select * from movies\")\n",
    "cur_result=cursor_obj.fetchall()\n",
    "cur_result"
   ]
  },
  {
   "cell_type": "code",
   "execution_count": 5,
   "metadata": {},
   "outputs": [
    {
     "name": "stdout",
     "output_type": "stream",
     "text": [
      "Result Set:  \n",
      " [(104, 'The Dark Knight', 'Action', 9.0, 'Would reccomend'), (105, 'The matrix', 'Sci-fi', 8.7, 'Still reccomend but I have reservations'), (106, 'Se7en', 'Crime', 8.6, 'Still reccomend but I have reservations'), (107, 'Instellar', 'Adventure', 8.6, 'Still reccomend but I have reservations'), (104, 'The Dark Knight', 'Action', 9.0, 'Would reccomend'), (105, 'The matrix', 'Sci-fi', 8.7, 'Still reccomend but I have reservations'), (106, 'Se7en', 'Crime', 8.6, 'Still reccomend but I have reservations'), (107, 'Instellar', 'Adventure', 8.6, 'Still reccomend but I have reservations'), (104, 'The Dark Knight', 'Action', 9.0, 'Would reccomend'), (104, 'The Dark Knight', 'Action', 9.0, 'Would reccomend'), (105, 'The matrix', 'Sci-fi', 8.7, 'Still reccomend but I have reservations'), (106, 'Se7en', 'Crime', 8.6, 'Still reccomend but I have reservations'), (107, 'Instellar', 'Adventure', 8.6, 'Still reccomend but I have reservations'), (105, 'The matrix', 'Sci-fi', 8.7, 'Still reccomend but I have reservations'), (106, 'Se7en', 'Crime', 8.6, 'Still reccomend but I have reservations'), (107, 'Instellar', 'Adventure', 8.6, 'Still reccomend but I have reservations'), (104, 'The Dark Knight', 'Action', 9.0, 'Would reccomend'), (105, 'The matrix', 'Sci-fi', 8.7, 'Still reccomend but I have reservations'), (106, 'Se7en', 'Crime', 8.6, 'Still reccomend but I have reservations'), (107, 'Instellar', 'Adventure', 8.6, 'Still reccomend but I have reservations'), (107, 'Instellar', 'Adventure', 8.6, 'Still reccomend but I have reservations'), (104, 'The Dark Knight', 'Action', 9.0, 'Would reccomend'), (105, 'The matrix', 'Sci-fi', 8.7, 'Still reccomend but I have reservations'), (106, 'Se7en', 'Crime', 8.6, 'Still reccomend but I have reservations'), (107, 'Instellar', 'Adventure', 8.6, 'Still reccomend but I have reservations'), (106, 'Se7en', 'Crime', 8.6, 'Still reccomend but I have reservations'), (107, 'Instellar', 'Adventure', 8.6, 'Still reccomend but I have reservations'), (104, 'The Dark Knight', 'Action', 9.0, 'Would reccomend'), (105, 'The matrix', 'Sci-fi', 8.7, 'Still reccomend but I have reservations'), (106, 'Se7en', 'Crime', 8.6, 'Still reccomend but I have reservations'), (107, 'Instellar', 'Adventure', 8.6, 'Still reccomend but I have reservations'), (104, 'The Dark Knight', 'Action', 9.0, 'Would reccomend'), (105, 'The matrix', 'Sci-fi', 8.7, 'Still reccomend but I have reservations'), (106, 'Se7en', 'Crime', 8.6, 'Still reccomend but I have reservations'), (107, 'Instellar', 'Adventure', 8.6, 'Still reccomend but I have reservations'), (104, 'The Dark Knight', 'Action', 9.0, 'Would reccomend'), (105, 'The matrix', 'Sci-fi', 8.7, 'Still reccomend but I have reservations'), (106, 'Se7en', 'Crime', 8.6, 'Still reccomend but I have reservations'), (107, 'Instellar', 'Adventure', 8.6, 'Still reccomend but I have reservations'), (103, '12 Angry men', 'Drama,Crime', 9.0, 'Would reccomend'), (103, '12 Angry men', 'Drama,Crime', 9.0, 'Would reccomend'), (103, '12 Angry men', 'Drama,Crime', 9.0, 'Would reccomend'), (103, '12 Angry men', 'Drama,Crime', 9.0, 'Would reccomend'), (103, '12 Angry men', 'Drama,Crime', 9.0, 'Would reccomend'), (104, 'The Dark Knight', 'Action', 9.0, 'Would reccomend'), (105, 'The matrix', 'Sci-fi', 8.7, 'Still reccomend but I have reservations'), (106, 'Se7en', 'Crime', 8.6, 'Still reccomend but I have reservations'), (107, 'Instellar', 'Adventure', 8.6, 'Still reccomend but I have reservations'), (103, '12 Angry men', 'Drama,Crime', 9.0, 'Would reccomend'), (103, '12 Angry men', 'Drama,Crime', 9.0, 'Would reccomend'), (103, '12 Angry men', 'Drama,Crime', 9.0, 'Would reccomend'), (103, '12 Angry men', 'Drama,Crime', 9.0, 'Would reccomend'), (104, 'The Dark Knight', 'Action', 9.0, 'Would reccomend'), (105, 'The matrix', 'Sci-fi', 8.7, 'Still reccomend but I have reservations'), (106, 'Se7en', 'Crime', 8.6, 'Still reccomend but I have reservations'), (107, 'Instellar', 'Adventure', 8.6, 'Still reccomend but I have reservations'), (103, '12 Angry men', 'Drama,Crime', 9.0, 'Would reccomend'), (103, '12 Angry men', 'Drama,Crime', 9.0, 'Would reccomend'), (104, 'The Dark Knight', 'Action', 9.0, 'Would reccomend'), (105, 'The matrix', 'Sci-fi', 8.7, 'Still reccomend but I have reservations'), (103, '12 Angry men', 'Drama,Crime', 9.0, 'Would reccomend'), (103, '12 Angry men', 'Drama,Crime', 9.0, 'Would reccomend'), (104, 'The Dark Knight', 'Action', 9.0, 'Would reccomend'), (105, 'The matrix', 'Sci-fi', 8.7, 'Still reccomend but I have reservations'), (106, 'Se7en', 'Crime', 8.6, 'Still reccomend but I have reservations'), (107, 'Instellar', 'Adventure', 8.6, 'Still reccomend but I have reservations'), (103, '12 Angry men', 'Drama,Crime', 9.0, 'Would reccomend'), (103, '12 Angry men', 'Drama,Crime', 9.0, 'Would reccomend'), (104, 'The Dark Knight', 'Action', 9.0, 'Would reccomend'), (105, 'The matrix', 'Sci-fi', 8.7, 'Still reccomend but I have reservations'), (106, 'Se7en', 'Crime', 8.6, 'Still reccomend but I have reservations'), (107, 'Instellar', 'Adventure', 8.6, 'Still reccomend but I have reservations'), (104, 'The Dark Knight', 'Action', 9.0, 'Would reccomend'), (105, 'The matrix', 'Sci-fi', 8.7, 'Still reccomend but I have reservations'), (106, 'Se7en', 'Crime', 8.6, 'Still reccomend but I have reservations')]\n"
     ]
    }
   ],
   "source": [
    "df=print(\"Result Set: \",\"\\n\",cur_result)\n",
    "df"
   ]
  }
 ],
 "metadata": {
  "kernelspec": {
   "display_name": "Python 3",
   "language": "python",
   "name": "python3"
  },
  "language_info": {
   "codemirror_mode": {
    "name": "ipython",
    "version": 3
   },
   "file_extension": ".py",
   "mimetype": "text/x-python",
   "name": "python",
   "nbconvert_exporter": "python",
   "pygments_lexer": "ipython3",
   "version": "3.10.2"
  },
  "orig_nbformat": 4
 },
 "nbformat": 4,
 "nbformat_minor": 2
}

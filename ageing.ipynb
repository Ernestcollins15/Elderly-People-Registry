{
 "cells": [
  {
   "cell_type": "code",
   "execution_count": null,
   "metadata": {},
   "outputs": [],
   "source": [
    "# Getting necessary packages\n",
    "import pandas as pd\n",
    "import numpy as np\n",
    "import os \n",
    "import matplotlib.pyplot as plt\n",
    "import psycopg2\n",
    "from psycopg2 import sql \n",
    "from psycopg2.extensions import ISOLATION_LEVEL_AUTOCOMMIT "
   ]
  },
  {
   "cell_type": "code",
   "execution_count": 44,
   "metadata": {},
   "outputs": [
    {
     "data": {
      "text/plain": [
       "'c:\\\\Users\\\\Ernest\\\\Desktop\\\\Python\\\\Ageing_data\\\\ageing_data.csv'"
      ]
     },
     "execution_count": 44,
     "metadata": {},
     "output_type": "execute_result"
    }
   ],
   "source": [
    "pwd=os.getcwd()\n",
    "filepath=os.path.join(pwd,\"ageing_data.csv\")\n",
    "filepath"
   ]
  },
  {
   "cell_type": "code",
   "execution_count": 45,
   "metadata": {},
   "outputs": [
    {
     "data": {
      "text/html": [
       "<div>\n",
       "<style scoped>\n",
       "    .dataframe tbody tr th:only-of-type {\n",
       "        vertical-align: middle;\n",
       "    }\n",
       "\n",
       "    .dataframe tbody tr th {\n",
       "        vertical-align: top;\n",
       "    }\n",
       "\n",
       "    .dataframe thead th {\n",
       "        text-align: right;\n",
       "    }\n",
       "</style>\n",
       "<table border=\"1\" class=\"dataframe\">\n",
       "  <thead>\n",
       "    <tr style=\"text-align: right;\">\n",
       "      <th></th>\n",
       "      <th>RowId</th>\n",
       "      <th>YearStart</th>\n",
       "      <th>YearEnd</th>\n",
       "      <th>LocationAbbr</th>\n",
       "      <th>LocationDesc</th>\n",
       "      <th>Class</th>\n",
       "      <th>Topic</th>\n",
       "      <th>Question</th>\n",
       "      <th>Response</th>\n",
       "      <th>DataValueTypeID</th>\n",
       "      <th>...</th>\n",
       "      <th>StratificationCategory2</th>\n",
       "      <th>Stratification2</th>\n",
       "      <th>Geolocation</th>\n",
       "      <th>ClassID</th>\n",
       "      <th>TopicID</th>\n",
       "      <th>QuestionID</th>\n",
       "      <th>StratificationCategoryID1</th>\n",
       "      <th>StratificationID1</th>\n",
       "      <th>StratificationCategoryID2</th>\n",
       "      <th>StratificationID2</th>\n",
       "    </tr>\n",
       "  </thead>\n",
       "  <tbody>\n",
       "    <tr>\n",
       "      <th>0</th>\n",
       "      <td>BRFSS~2015~2015~9003~Q43~TOC11~AGE~OVERALL</td>\n",
       "      <td>2015</td>\n",
       "      <td>2015</td>\n",
       "      <td>SOU</td>\n",
       "      <td>South</td>\n",
       "      <td>Overall Health</td>\n",
       "      <td>Arthritis among older adults</td>\n",
       "      <td>Percentage of older adults ever told they have...</td>\n",
       "      <td>NaN</td>\n",
       "      <td>PRCTG</td>\n",
       "      <td>...</td>\n",
       "      <td>NaN</td>\n",
       "      <td>NaN</td>\n",
       "      <td>NaN</td>\n",
       "      <td>C01</td>\n",
       "      <td>TOC11</td>\n",
       "      <td>Q43</td>\n",
       "      <td>AGE</td>\n",
       "      <td>5064</td>\n",
       "      <td>OVERALL</td>\n",
       "      <td>OVERALL</td>\n",
       "    </tr>\n",
       "    <tr>\n",
       "      <th>1</th>\n",
       "      <td>BRFSS~2021~2021~01~Q03~TMC01~AGE~GENDER</td>\n",
       "      <td>2021</td>\n",
       "      <td>2021</td>\n",
       "      <td>AL</td>\n",
       "      <td>Alabama</td>\n",
       "      <td>Mental Health</td>\n",
       "      <td>Frequent mental distress</td>\n",
       "      <td>Percentage of older adults who are experiencin...</td>\n",
       "      <td>NaN</td>\n",
       "      <td>PRCTG</td>\n",
       "      <td>...</td>\n",
       "      <td>Gender</td>\n",
       "      <td>Female</td>\n",
       "      <td>POINT (-86.63186076199969 32.84057112200048)</td>\n",
       "      <td>C05</td>\n",
       "      <td>TMC01</td>\n",
       "      <td>Q03</td>\n",
       "      <td>AGE</td>\n",
       "      <td>AGE_OVERALL</td>\n",
       "      <td>GENDER</td>\n",
       "      <td>FEMALE</td>\n",
       "    </tr>\n",
       "    <tr>\n",
       "      <th>2</th>\n",
       "      <td>BRFSS~2021~2021~41~Q27~TMC03~AGE~RACE</td>\n",
       "      <td>2021</td>\n",
       "      <td>2021</td>\n",
       "      <td>OR</td>\n",
       "      <td>Oregon</td>\n",
       "      <td>Mental Health</td>\n",
       "      <td>Lifetime diagnosis of depression</td>\n",
       "      <td>Percentage of older adults with a lifetime dia...</td>\n",
       "      <td>NaN</td>\n",
       "      <td>PRCTG</td>\n",
       "      <td>...</td>\n",
       "      <td>Race/Ethnicity</td>\n",
       "      <td>Hispanic</td>\n",
       "      <td>POINT (-120.15503132599969 44.56744942400047)</td>\n",
       "      <td>C05</td>\n",
       "      <td>TMC03</td>\n",
       "      <td>Q27</td>\n",
       "      <td>AGE</td>\n",
       "      <td>AGE_OVERALL</td>\n",
       "      <td>RACE</td>\n",
       "      <td>HIS</td>\n",
       "    </tr>\n",
       "    <tr>\n",
       "      <th>3</th>\n",
       "      <td>BRFSS~2021~2021~31~Q27~TMC03~AGE~OVERALL</td>\n",
       "      <td>2021</td>\n",
       "      <td>2021</td>\n",
       "      <td>NE</td>\n",
       "      <td>Nebraska</td>\n",
       "      <td>Mental Health</td>\n",
       "      <td>Lifetime diagnosis of depression</td>\n",
       "      <td>Percentage of older adults with a lifetime dia...</td>\n",
       "      <td>NaN</td>\n",
       "      <td>PRCTG</td>\n",
       "      <td>...</td>\n",
       "      <td>NaN</td>\n",
       "      <td>NaN</td>\n",
       "      <td>POINT (-99.36572062299967 41.6410409880005)</td>\n",
       "      <td>C05</td>\n",
       "      <td>TMC03</td>\n",
       "      <td>Q27</td>\n",
       "      <td>AGE</td>\n",
       "      <td>AGE_OVERALL</td>\n",
       "      <td>OVERALL</td>\n",
       "      <td>OVERALL</td>\n",
       "    </tr>\n",
       "    <tr>\n",
       "      <th>4</th>\n",
       "      <td>BRFSS~2021~2021~18~Q27~TMC03~AGE~GENDER</td>\n",
       "      <td>2021</td>\n",
       "      <td>2021</td>\n",
       "      <td>IN</td>\n",
       "      <td>Indiana</td>\n",
       "      <td>Mental Health</td>\n",
       "      <td>Lifetime diagnosis of depression</td>\n",
       "      <td>Percentage of older adults with a lifetime dia...</td>\n",
       "      <td>NaN</td>\n",
       "      <td>PRCTG</td>\n",
       "      <td>...</td>\n",
       "      <td>Gender</td>\n",
       "      <td>Female</td>\n",
       "      <td>POINT (-86.14996019399968 39.766910452000445)</td>\n",
       "      <td>C05</td>\n",
       "      <td>TMC03</td>\n",
       "      <td>Q27</td>\n",
       "      <td>AGE</td>\n",
       "      <td>AGE_OVERALL</td>\n",
       "      <td>GENDER</td>\n",
       "      <td>FEMALE</td>\n",
       "    </tr>\n",
       "  </tbody>\n",
       "</table>\n",
       "<p>5 rows × 25 columns</p>\n",
       "</div>"
      ],
      "text/plain": [
       "                                        RowId  YearStart  YearEnd  \\\n",
       "0  BRFSS~2015~2015~9003~Q43~TOC11~AGE~OVERALL       2015     2015   \n",
       "1     BRFSS~2021~2021~01~Q03~TMC01~AGE~GENDER       2021     2021   \n",
       "2       BRFSS~2021~2021~41~Q27~TMC03~AGE~RACE       2021     2021   \n",
       "3    BRFSS~2021~2021~31~Q27~TMC03~AGE~OVERALL       2021     2021   \n",
       "4     BRFSS~2021~2021~18~Q27~TMC03~AGE~GENDER       2021     2021   \n",
       "\n",
       "  LocationAbbr LocationDesc           Class                             Topic  \\\n",
       "0          SOU        South  Overall Health      Arthritis among older adults   \n",
       "1           AL      Alabama   Mental Health          Frequent mental distress   \n",
       "2           OR       Oregon   Mental Health  Lifetime diagnosis of depression   \n",
       "3           NE     Nebraska   Mental Health  Lifetime diagnosis of depression   \n",
       "4           IN      Indiana   Mental Health  Lifetime diagnosis of depression   \n",
       "\n",
       "                                            Question  Response  \\\n",
       "0  Percentage of older adults ever told they have...       NaN   \n",
       "1  Percentage of older adults who are experiencin...       NaN   \n",
       "2  Percentage of older adults with a lifetime dia...       NaN   \n",
       "3  Percentage of older adults with a lifetime dia...       NaN   \n",
       "4  Percentage of older adults with a lifetime dia...       NaN   \n",
       "\n",
       "  DataValueTypeID  ... StratificationCategory2  Stratification2  \\\n",
       "0           PRCTG  ...                     NaN              NaN   \n",
       "1           PRCTG  ...                  Gender           Female   \n",
       "2           PRCTG  ...          Race/Ethnicity         Hispanic   \n",
       "3           PRCTG  ...                     NaN              NaN   \n",
       "4           PRCTG  ...                  Gender           Female   \n",
       "\n",
       "                                     Geolocation ClassID TopicID QuestionID  \\\n",
       "0                                            NaN     C01   TOC11        Q43   \n",
       "1   POINT (-86.63186076199969 32.84057112200048)     C05   TMC01        Q03   \n",
       "2  POINT (-120.15503132599969 44.56744942400047)     C05   TMC03        Q27   \n",
       "3    POINT (-99.36572062299967 41.6410409880005)     C05   TMC03        Q27   \n",
       "4  POINT (-86.14996019399968 39.766910452000445)     C05   TMC03        Q27   \n",
       "\n",
       "  StratificationCategoryID1 StratificationID1 StratificationCategoryID2  \\\n",
       "0                       AGE              5064                   OVERALL   \n",
       "1                       AGE       AGE_OVERALL                    GENDER   \n",
       "2                       AGE       AGE_OVERALL                      RACE   \n",
       "3                       AGE       AGE_OVERALL                   OVERALL   \n",
       "4                       AGE       AGE_OVERALL                    GENDER   \n",
       "\n",
       "  StratificationID2  \n",
       "0           OVERALL  \n",
       "1            FEMALE  \n",
       "2               HIS  \n",
       "3           OVERALL  \n",
       "4            FEMALE  \n",
       "\n",
       "[5 rows x 25 columns]"
      ]
     },
     "execution_count": 45,
     "metadata": {},
     "output_type": "execute_result"
    }
   ],
   "source": [
    "ageing_data = pd.read_csv(filepath,low_memory=False)\n",
    "ageing_data.head() "
   ]
  },
  {
   "cell_type": "code",
   "execution_count": 46,
   "metadata": {},
   "outputs": [
    {
     "data": {
      "text/plain": [
       "(250937, 25)"
      ]
     },
     "execution_count": 46,
     "metadata": {},
     "output_type": "execute_result"
    }
   ],
   "source": [
    "ageing_data.shape"
   ]
  },
  {
   "cell_type": "code",
   "execution_count": 47,
   "metadata": {},
   "outputs": [
    {
     "data": {
      "text/plain": [
       "['RowId',\n",
       " 'YearStart',\n",
       " 'YearEnd',\n",
       " 'LocationAbbr',\n",
       " 'LocationDesc',\n",
       " 'Class',\n",
       " 'Topic',\n",
       " 'Question',\n",
       " 'Response',\n",
       " 'DataValueTypeID',\n",
       " 'Data_Value_Type',\n",
       " 'Data_Value',\n",
       " 'Data_Value_Alt',\n",
       " 'StratificationCategory1',\n",
       " 'Stratification1',\n",
       " 'StratificationCategory2',\n",
       " 'Stratification2',\n",
       " 'Geolocation',\n",
       " 'ClassID',\n",
       " 'TopicID',\n",
       " 'QuestionID',\n",
       " 'StratificationCategoryID1',\n",
       " 'StratificationID1',\n",
       " 'StratificationCategoryID2',\n",
       " 'StratificationID2']"
      ]
     },
     "execution_count": 47,
     "metadata": {},
     "output_type": "execute_result"
    }
   ],
   "source": [
    "ageing_data.columns.to_list() "
   ]
  },
  {
   "cell_type": "code",
   "execution_count": 48,
   "metadata": {},
   "outputs": [],
   "source": [
    "password = input(\"Please enter your Password: \") "
   ]
  },
  {
   "cell_type": "code",
   "execution_count": 49,
   "metadata": {},
   "outputs": [
    {
     "data": {
      "text/plain": [
       "<connection object at 0x000001D158A71AD0; dsn: 'user=postgres password=xxx dbname=psycopg_final host=localhost port=5432', closed: 0>"
      ]
     },
     "execution_count": 49,
     "metadata": {},
     "output_type": "execute_result"
    }
   ],
   "source": [
    "#Establishing a connection\n",
    "conn = psycopg2.connect(\n",
    "    host=\"localhost\",\n",
    "    port=\"5432\",\n",
    "    database=\"psycopg_final\",\n",
    "    user=\"postgres\",\n",
    "    password=password)\n",
    "conn"
   ]
  },
  {
   "cell_type": "code",
   "execution_count": 50,
   "metadata": {},
   "outputs": [],
   "source": [
    "# Set the isolation level to autocommit\n",
    "conn.set_isolation_level(ISOLATION_LEVEL_AUTOCOMMIT)"
   ]
  },
  {
   "cell_type": "code",
   "execution_count": 51,
   "metadata": {},
   "outputs": [],
   "source": [
    "# Create a cursor object\n",
    "cursor = conn.cursor() "
   ]
  },
  {
   "cell_type": "code",
   "execution_count": 52,
   "metadata": {},
   "outputs": [],
   "source": [
    "# Define the table name\n",
    "table_name = 'Elderly_Registry' "
   ]
  },
  {
   "cell_type": "code",
   "execution_count": 53,
   "metadata": {},
   "outputs": [],
   "source": [
    "# Define the CREATE TABLE statement\n",
    "create_table_query = sql.SQL('''\n",
    "    CREATE TABLE IF NOT EXISTS {} (\n",
    "        \"RowId\" VARCHAR(255),\n",
    "        \"YearStart\" INTEGER,\n",
    "        \"YearEnd\" INTEGER,\n",
    "        \"LocationAbbr\" VARCHAR(255),\n",
    "        \"LocationDesc\" VARCHAR(255),\n",
    "        \"Class\" VARCHAR(255),\n",
    "        \"Topic\" VARCHAR(255),\n",
    "        \"Question\" VARCHAR(255),\n",
    "        \"Response\" VARCHAR(255),\n",
    "        \"DataValueTypeID\" VARCHAR(255),\n",
    "        \"Data_Value_Type\" VARCHAR(255),\n",
    "        \"Data_Value\" FLOAT,\n",
    "        \"Data_Value_Alt\" FLOAT,\n",
    "        \"StratificationCategory1\" VARCHAR(255),\n",
    "        \"Stratification1\" VARCHAR(255),\n",
    "        \"StratificationCategory2\" VARCHAR(255),\n",
    "        \"Stratification2\" VARCHAR(255),\n",
    "        \"Geolocation\" VARCHAR(255),\n",
    "        \"ClassID\" VARCHAR(10),\n",
    "        \"TopicID\" VARCHAR(10),\n",
    "        \"QuestionID\" VARCHAR(25),\n",
    "        \"StratificationCategoryID1\" VARCHAR(255),\n",
    "        \"StratificationID1\" VARCHAR(255),\n",
    "        \"StratificationCategoryID2\" VARCHAR(255),\n",
    "        \"StratificationID2\" VARCHAR(255)\n",
    "    )\n",
    "''').format(sql.Identifier(table_name))"
   ]
  },
  {
   "cell_type": "code",
   "execution_count": 54,
   "metadata": {},
   "outputs": [],
   "source": [
    "#Execute the CREATE TABLE statement\n",
    "cursor.execute(create_table_query) "
   ]
  },
  {
   "cell_type": "code",
   "execution_count": 55,
   "metadata": {},
   "outputs": [],
   "source": [
    "# Define the path to your CSV file\n",
    "csv_file_path = 'C:\\\\Users\\\\Ernest\\\\Desktop\\Python\\\\Ageing_data\\\\ageing_data.csv'\n",
    "\n",
    "# Define the COPY command to load data from CSV\n",
    "#copy_command = sql.SQL('COPY {} FROM %s WITH (FORMAT CSV, DELIMITER \",\" , HEADER)').format(\n",
    " #   sql.Identifier(table_name)\n",
    "#)\n",
    "# Define the COPY command to load data from CSV\n",
    "copy_command = sql.SQL('COPY {} FROM STDIN WITH (FORMAT CSV, DELIMITER \",\", HEADER)').format(\n",
    "    sql.Identifier(table_name)\n",
    ")\n",
    "# Execute the COPY command with the CSV file path\n",
    "with open(csv_file_path, 'r') as f:\n",
    "    cursor.copy_expert(copy_command, f)\n",
    "\n",
    "# Commit the changes\n",
    "conn.commit()"
   ]
  },
  {
   "cell_type": "code",
   "execution_count": 56,
   "metadata": {},
   "outputs": [],
   "source": [
    "# Close the cursor and the database connection\n",
    "cursor.close()\n",
    "conn.close()"
   ]
  }
 ],
 "metadata": {
  "kernelspec": {
   "display_name": "Python 3",
   "language": "python",
   "name": "python3"
  },
  "language_info": {
   "codemirror_mode": {
    "name": "ipython",
    "version": 3
   },
   "file_extension": ".py",
   "mimetype": "text/x-python",
   "name": "python",
   "nbconvert_exporter": "python",
   "pygments_lexer": "ipython3",
   "version": "3.11.4"
  },
  "orig_nbformat": 4
 },
 "nbformat": 4,
 "nbformat_minor": 2
}
